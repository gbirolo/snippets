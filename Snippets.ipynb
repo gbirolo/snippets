{
 "cells": [
  {
   "cell_type": "markdown",
   "metadata": {},
   "source": [
    "# Code snippets"
   ]
  },
  {
   "cell_type": "code",
   "execution_count": null,
   "metadata": {},
   "outputs": [],
   "source": []
  },
  {
   "cell_type": "code",
   "execution_count": null,
   "metadata": {},
   "outputs": [],
   "source": [
    "def np2pd_fit_transform(transformer, pd, prefix=None):\n",
    "    '''Transform a pandas dataframe with an sklearn object keeping index/columns when appropriate'''\n",
    "    if hasattr(transformer, 'fit_transform'):\n",
    "        np = transformer.fit_transform(pd)\n",
    "        keep_index, keep_cols = (np.shape[i] == pd.shape[i] for i in range(2))\n",
    "        assert keep_index or keep_col\n",
    "        return pandas.DataFrame(np, \n",
    "            index=pd.index if keep_index else map((prefix + '{}').format, range(1, np.shape[1] + 1)),\n",
    "            columns=pd.columns if keep_cols else map((prefix + '{}').format, range(1, np.shape[1] + 1)))\n",
    "    else:\n",
    "        np = transformer.fit_predict(pd)\n",
    "        return pandas.Series(np, index=pd.index)"
   ]
  },
  {
   "cell_type": "markdown",
   "metadata": {},
   "source": [
    "Admixture inspired decomposition of matrix"
   ]
  },
  {
   "cell_type": "code",
   "execution_count": null,
   "metadata": {},
   "outputs": [],
   "source": [
    "def random_components(X, k):\n",
    "    components = numpy.random.random(size=(X.shape[0], k))\n",
    "    return components/numpy.sum(components, axis=1)[:,numpy.newaxis]\n",
    "def model_error(X, components, profiles):\n",
    "    return numpy.sum(numpy.square(X.values - numpy.dot(components, profiles)))\n",
    "def components_constraint(components):\n",
    "    return numpy.sum(numpy.square(1 - numpy.sum(components, axis=1)))\n",
    "def components_error(x, X, profiles, C):\n",
    "    k = profiles.shape[0]\n",
    "    components = x.reshape((X.shape[0], k))\n",
    "    return model_error(X, components, profiles) + components_constraint(components)/C\n",
    "from scipy.optimize import minimize\n",
    "def profile_error(x, X, components, C):\n",
    "    k = components.shape[1]\n",
    "    profiles = x.reshape((k, X.shape[1]))\n",
    "    return model_error(X, components, profiles)\n",
    "def block_relaxation(X, profiles0, n=10, components0=None):\n",
    "    if isinstance(profiles0, int):\n",
    "        profiles0 = X.sample(profiles0).values\n",
    "    k = profiles0.shape[0]\n",
    "    if components0 is None:\n",
    "        components0 = random_components(X, k)\n",
    "        \n",
    "    iterations = [(profiles0, components0)]\n",
    "    scores = [model_error(X, components0, profiles0)]\n",
    "    optim_results = []\n",
    "    for i in range(n):\n",
    "        prev_profiles, prev_components = iterations[-1]\n",
    "        print('Iter {}, optimizing components...'.format(i), end=' ', flush=True)\n",
    "        cmp_res = minimize(components_error, prev_components.flatten(), args=(X, prev_profiles, 0.01), \n",
    "             method='L-BFGS-B', bounds=[(0, 1)]*(k*X.shape[0]), \n",
    "             options=dict(maxiter=100000, maxfun=100000))\n",
    "        print('{}'.format(cmp_res.fun))\n",
    "        next_components = cmp_res.x.reshape((X.shape[0], k))\n",
    "        print('Iter {}, optimizing profiles...'.format(i), end=' ', flush=True)\n",
    "        prf_res = minimize(profile_error, prev_profiles.flatten(), args=(X, next_components, 0.01), \n",
    "             method='L-BFGS-B', bounds=list(zip(X.min(), X.max()))*k, \n",
    "             options=dict(maxiter=100000, maxfun=100000))\n",
    "        print('{}'.format(prf_res.fun))\n",
    "        next_profiles = prf_res.x.reshape((k, X.shape[1]))\n",
    "        \n",
    "        iterations.append((next_profiles, next_components))\n",
    "        scores.append(model_error(X, next_components, next_profiles))\n",
    "        optim_results.append((prf_res, cmp_res))\n",
    "    return iterations, scores, optim_results"
   ]
  },
  {
   "cell_type": "markdown",
   "metadata": {},
   "source": [
    "# I/O"
   ]
  },
  {
   "cell_type": "code",
   "execution_count": null,
   "metadata": {},
   "outputs": [],
   "source": [
    "import gzip\n",
    "import pickle\n",
    "def load_pickle(path, n=None):\n",
    "    with (gzip.open if path.endswith('.gz') else open)(path, 'rb') as f:\n",
    "        while True:\n",
    "            "
   ]
  },
  {
   "cell_type": "markdown",
   "metadata": {},
   "source": [
    "# Plots and graphics"
   ]
  },
  {
   "cell_type": "code",
   "execution_count": null,
   "metadata": {},
   "outputs": [],
   "source": [
    "def cat2colors(x):\n",
    "    unique_values = x.unique()\n",
    "    colors = seaborn.color_palette(n_colors=len(unique_values))\n",
    "    return x.map(dict(zip(unique_values, colors)))"
   ]
  },
  {
   "cell_type": "code",
   "execution_count": null,
   "metadata": {},
   "outputs": [],
   "source": []
  },
  {
   "cell_type": "code",
   "execution_count": null,
   "metadata": {},
   "outputs": [],
   "source": []
  }
 ],
 "metadata": {
  "kernelspec": {
   "display_name": "Python 3",
   "language": "python",
   "name": "python3"
  },
  "language_info": {
   "codemirror_mode": {
    "name": "ipython",
    "version": 3
   },
   "file_extension": ".py",
   "mimetype": "text/x-python",
   "name": "python",
   "nbconvert_exporter": "python",
   "pygments_lexer": "ipython3",
   "version": "3.7.1"
  }
 },
 "nbformat": 4,
 "nbformat_minor": 4
}
